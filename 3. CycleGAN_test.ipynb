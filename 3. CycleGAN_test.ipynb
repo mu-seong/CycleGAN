{
 "cells": [
  {
   "cell_type": "markdown",
   "metadata": {},
   "source": [
    "## 1. Import Libs"
   ]
  },
  {
   "cell_type": "code",
   "execution_count": 1,
   "metadata": {},
   "outputs": [],
   "source": [
    "import torch\n",
    "from torchvision import transforms\n",
    "from torch.autograd import Variable\n",
    "from dataset import DatasetFromFolder\n",
    "from model import Generator\n",
    "import utils\n",
    "import argparse\n",
    "import os"
   ]
  },
  {
   "cell_type": "markdown",
   "metadata": {},
   "source": [
    "## 2. Setting hyperparameters"
   ]
  },
  {
   "cell_type": "code",
   "execution_count": 2,
   "metadata": {},
   "outputs": [
    {
     "name": "stdout",
     "output_type": "stream",
     "text": [
      "Namespace(batch_size=1, dataset='white2yellow_tiger', input_size=256, ngf=32, num_resnet=6)\n"
     ]
    }
   ],
   "source": [
    "parser = argparse.ArgumentParser()\n",
    "parser.add_argument('--dataset', required=False, default='white2yellow_tiger', help='input dataset')\n",
    "parser.add_argument('--batch_size', type=int, default=1, help='test batch size')\n",
    "parser.add_argument('--ngf', type=int, default=32)\n",
    "parser.add_argument('--num_resnet', type=int, default=6, help='number of resnet blocks in generator')\n",
    "parser.add_argument('--input_size', type=int, default=256, help='input size')\n",
    "params = parser.parse_args([])\n",
    "print(params)\n",
    "\n",
    "# Directories\n",
    "data_dir = 'data/' + params.dataset + '/'\n",
    "save_dir = params.dataset + '_test_results/'\n",
    "model_dir = params.dataset + '_model/'\n",
    "\n",
    "if not os.path.exists(save_dir):\n",
    "    os.mkdir(save_dir)\n",
    "if not os.path.exists(model_dir):\n",
    "    os.mkdir(model_dir)"
   ]
  },
  {
   "cell_type": "markdown",
   "metadata": {},
   "source": [
    "## 3. Load Dataset\n",
    "### 3.1 Preprocessing"
   ]
  },
  {
   "cell_type": "code",
   "execution_count": 3,
   "metadata": {},
   "outputs": [
    {
     "name": "stderr",
     "output_type": "stream",
     "text": [
      "D:\\Anaconda3\\envs\\torchgan\\lib\\site-packages\\torchvision\\transforms\\transforms.py:211: UserWarning: The use of the transforms.Scale transform is deprecated, please use transforms.Resize instead.\n",
      "  \"please use transforms.Resize instead.\")\n"
     ]
    }
   ],
   "source": [
    "transform = transforms.Compose([\n",
    "    transforms.Scale((params.input_size,params.input_size)),\n",
    "    transforms.ToTensor(),\n",
    "    transforms.Normalize(mean=(0.5, 0.5, 0.5), std=(0.5, 0.5, 0.5))\n",
    "])"
   ]
  },
  {
   "cell_type": "markdown",
   "metadata": {},
   "source": [
    "### 3.2 Test data"
   ]
  },
  {
   "cell_type": "code",
   "execution_count": 4,
   "metadata": {},
   "outputs": [],
   "source": [
    "test_data_A = DatasetFromFolder(data_dir, subfolder='testA', transform=transform)\n",
    "test_data_loader_A = torch.utils.data.DataLoader(\n",
    "    dataset=test_data_A, batch_size=params.batch_size, shuffle=False)\n",
    "\n",
    "test_data_B = DatasetFromFolder(data_dir, subfolder='testB', transform=transform)\n",
    "test_data_loader_B = torch.utils.data.DataLoader(\n",
    "    dataset=test_data_B, batch_size=params.batch_size, shuffle=False)"
   ]
  },
  {
   "cell_type": "markdown",
   "metadata": {},
   "source": [
    "## 4. Load Models"
   ]
  },
  {
   "cell_type": "code",
   "execution_count": 5,
   "metadata": {},
   "outputs": [
    {
     "data": {
      "text/plain": [
       "<All keys matched successfully>"
      ]
     },
     "execution_count": 5,
     "metadata": {},
     "output_type": "execute_result"
    }
   ],
   "source": [
    "G_A = Generator(3, params.ngf, 3, params.num_resnet)\n",
    "G_B = Generator(3, params.ngf, 3, params.num_resnet)\n",
    "G_A.cuda()\n",
    "G_B.cuda()\n",
    "G_A.load_state_dict(torch.load(model_dir + 'generator_A_param.pkl'))\n",
    "G_B.load_state_dict(torch.load(model_dir + 'generator_B_param.pkl'))"
   ]
  },
  {
   "cell_type": "markdown",
   "metadata": {},
   "source": [
    "## 5. Model Test"
   ]
  },
  {
   "cell_type": "code",
   "execution_count": 6,
   "metadata": {},
   "outputs": [
    {
     "name": "stdout",
     "output_type": "stream",
     "text": [
      "1 images are generated.\n",
      "2 images are generated.\n",
      "3 images are generated.\n",
      "4 images are generated.\n",
      "5 images are generated.\n",
      "6 images are generated.\n",
      "7 images are generated.\n",
      "8 images are generated.\n",
      "9 images are generated.\n",
      "10 images are generated.\n",
      "1 images are generated.\n",
      "2 images are generated.\n",
      "3 images are generated.\n",
      "4 images are generated.\n",
      "5 images are generated.\n",
      "6 images are generated.\n",
      "7 images are generated.\n",
      "8 images are generated.\n",
      "9 images are generated.\n",
      "10 images are generated.\n"
     ]
    }
   ],
   "source": [
    "for k, real_A in enumerate(test_data_loader_A):\n",
    "    # input image data\n",
    "    real_A = Variable(real_A.cuda())\n",
    "    \n",
    "    # A --> B --> A\n",
    "    fake_B = G_A(real_A)\n",
    "    recon_A = G_B(fake_B)\n",
    "    \n",
    "    # Show result for test data\n",
    "    utils.plot_test_result(real_A, fake_B, recon_A, k, save=True, save_dir=save_dir + 'AtoB/')\n",
    "    # only one test image\n",
    "    utils.save_singleimages(fake_B, k, save=True, save_dir=save_dir + 'AtoB_one/')\n",
    "\n",
    "    print('%d images are generated.' % (k + 1))\n",
    "\n",
    "for k, real_B in enumerate(test_data_loader_B):\n",
    "\n",
    "    # input image data\n",
    "    real_B = Variable(real_B.cuda())\n",
    "\n",
    "    # B -> A -> B\n",
    "    fake_A = G_B(real_B)\n",
    "    recon_B = G_A(fake_A)\n",
    "\n",
    "    # Show result for test data\n",
    "    utils.plot_test_result(real_B, fake_A, recon_B, k, save=True, save_dir=save_dir + 'BtoA/')\n",
    "    # only one test image\n",
    "    utils.save_singleimages(fake_A, k, save=True, save_dir=save_dir + 'BtoA_one/')\n",
    "    \n",
    "    print('%d images are generated.' % (k + 1))"
   ]
  },
  {
   "cell_type": "code",
   "execution_count": null,
   "metadata": {},
   "outputs": [],
   "source": []
  }
 ],
 "metadata": {
  "kernelspec": {
   "display_name": "Environment (conda_torchgan)",
   "language": "python",
   "name": "conda_torchgan"
  },
  "language_info": {
   "codemirror_mode": {
    "name": "ipython",
    "version": 3
   },
   "file_extension": ".py",
   "mimetype": "text/x-python",
   "name": "python",
   "nbconvert_exporter": "python",
   "pygments_lexer": "ipython3",
   "version": "3.6.10"
  }
 },
 "nbformat": 4,
 "nbformat_minor": 2
}
